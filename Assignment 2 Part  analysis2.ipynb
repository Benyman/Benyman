{
 "cells": [
  {
   "cell_type": "code",
   "execution_count": 4,
   "id": "6a6c4d81-b167-40b4-9b64-f334d46e4400",
   "metadata": {},
   "outputs": [
    {
     "name": "stdout",
     "output_type": "stream",
     "text": [
      "0.7142857142857143\n",
      "Observations: [15.2 16.1 14.5 15.8 25. ]\n",
      "Model Output: [14.8 15.5 14.  16.  25.3]\n",
      "Analysis (Optimal Interpolation): [15.08571429 15.92857143 14.35714286 15.85714286 25.08571429]\n",
      "\n",
      "RMSE of Model Output: 0.4242640687119287\n",
      "RMSE of analysis 0.12121830534626538\n",
      "RMSE of observations 0.0\n",
      "\n",
      "Bias of Model Output -0.2\n",
      "Bias of Analysis -0.057142857142857294\n",
      "Bias of observations 0.0\n"
     ]
    }
   ],
   "source": [
    "import numpy as np\n",
    "\n",
    "# sample observational data (in degree celsius)\n",
    "observations= np.array([15.2, 16.1, 14.5, 15.8, 25.0])\n",
    "\n",
    "# sample model predictions (in degree celsius)\n",
    "model_output= np.array([14.8, 15.5, 14.0, 16.0, 25.3])\n",
    "\n",
    "# variances (assumed for this example)\n",
    "sigma_m2= 0.5 # variance of the model error\n",
    "sigma_o2= 0.2 # variance of the obesrvation error\n",
    "\n",
    "# Kalman gain calculation\n",
    "# The Kalman gain calculation K is calculated with the formular below. \n",
    "# calculated by the variance of the model error divided by the (sum of the variance of the model and observtional error)\n",
    "K= sigma_m2/ (sigma_m2 + sigma_o2)\n",
    "print (K)\n",
    "\n",
    "# Optimal Interpolation\n",
    "# This method combines the observational and model data to produce a better estimte by minimizing the error. The formula is given below where K is the\n",
    "# kalman gain\n",
    "analysis= model_output + K * (observations - model_output)\n",
    "\n",
    "print(\"Observations:\", observations)\n",
    "print(\"Model Output:\", model_output)\n",
    "print(\"Analysis (Optimal Interpolation):\", analysis)\n",
    "# print displays the output \n",
    "\n",
    "# Statistical metrics \n",
    "\n",
    "# Root Mean Square Error (RMSE)\n",
    "#RMSE measures the average magnitude of the errors between the predicted and observed values\n",
    "rmse_model= np.sqrt(np.mean((model_output - observations)**2))\n",
    "rmse_analysis= np.sqrt(np.mean((analysis - observations)**2))\n",
    "rmse_observations= np.sqrt(np.mean((observations - observations)**2))\n",
    "\n",
    "# Bias\n",
    "# Bias on the other hand, measures the average difference between the predicted and observed values\n",
    "bias_model= np.mean(model_output - observations)\n",
    "bias_analysis= np.mean(analysis - observations)\n",
    "bias_observations= np.mean(observations - observations)\n",
    "\n",
    "print(\"\\nRMSE of Model Output:\", rmse_model)\n",
    "print(\"RMSE of analysis\", rmse_analysis)\n",
    "print(\"RMSE of observations\", rmse_observations)\n",
    "\n",
    "print(\"\\nBias of Model Output\", bias_model)\n",
    "print(\"Bias of Analysis\", bias_analysis)\n",
    "print(\"Bias of observations\", bias_observations)\n"
   ]
  },
  {
   "cell_type": "code",
   "execution_count": null,
   "id": "3e8e6159-03af-4621-bcd3-1611f4a73a92",
   "metadata": {},
   "outputs": [],
   "source": [
    "# comparing the analysis fields with the observational data and the NWP model data\n",
    "# it is seen clearly that the analysis field has a lower RMSE compared to the model output, indicating a better fit to the observations. \n",
    "# The bias of the analysis is also closer to zero compared to the model output, suggesting a reduction in systematic errors.\n"
   ]
  },
  {
   "cell_type": "code",
   "execution_count": null,
   "id": "54be65c3-87c4-40ad-b706-07ab69280c60",
   "metadata": {},
   "outputs": [],
   "source": []
  },
  {
   "cell_type": "code",
   "execution_count": null,
   "id": "48325ee3-7cca-4174-bb13-f6da1201b8ce",
   "metadata": {},
   "outputs": [],
   "source": []
  }
 ],
 "metadata": {
  "kernelspec": {
   "display_name": "Python 3 (ipykernel)",
   "language": "python",
   "name": "python3"
  },
  "language_info": {
   "codemirror_mode": {
    "name": "ipython",
    "version": 3
   },
   "file_extension": ".py",
   "mimetype": "text/x-python",
   "name": "python",
   "nbconvert_exporter": "python",
   "pygments_lexer": "ipython3",
   "version": "3.9.19"
  }
 },
 "nbformat": 4,
 "nbformat_minor": 5
}
